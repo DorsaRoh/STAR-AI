{
 "cells": [
  {
   "cell_type": "code",
   "execution_count": 19,
   "metadata": {},
   "outputs": [],
   "source": [
    "# Necessary Imports\n",
    "\n",
    "import pandas as pd\n",
    "from sklearn.model_selection import train_test_split\n",
    "from sklearn.feature_extraction.text import TfidfVectorizer\n",
    "from sklearn.linear_model import LogisticRegression\n",
    "from sklearn.metrics import classification_report\n",
    "from sklearn.model_selection import cross_val_score, learning_curve\n",
    "import numpy as np\n",
    "import matplotlib.pyplot as plt\n",
    "from collections import Counter\n",
    "import joblib\n",
    "\n"
   ]
  },
  {
   "cell_type": "markdown",
   "metadata": {},
   "source": [
    "Data Analysis"
   ]
  },
  {
   "cell_type": "code",
   "execution_count": 20,
   "metadata": {},
   "outputs": [
    {
     "data": {
      "text/html": [
       "<div>\n",
       "<style scoped>\n",
       "    .dataframe tbody tr th:only-of-type {\n",
       "        vertical-align: middle;\n",
       "    }\n",
       "\n",
       "    .dataframe tbody tr th {\n",
       "        vertical-align: top;\n",
       "    }\n",
       "\n",
       "    .dataframe thead th {\n",
       "        text-align: right;\n",
       "    }\n",
       "</style>\n",
       "<table border=\"1\" class=\"dataframe\">\n",
       "  <thead>\n",
       "    <tr style=\"text-align: right;\">\n",
       "      <th></th>\n",
       "      <th>Mission Name</th>\n",
       "      <th>Year</th>\n",
       "      <th>Objective</th>\n",
       "      <th>Outcome</th>\n",
       "      <th>Reason</th>\n",
       "      <th>Success</th>\n",
       "    </tr>\n",
       "  </thead>\n",
       "  <tbody>\n",
       "    <tr>\n",
       "      <th>0</th>\n",
       "      <td>Challenger Shuttle Disaster</td>\n",
       "      <td>1986.0</td>\n",
       "      <td>10th flight of Space Shuttle Challenger.</td>\n",
       "      <td>Failure. Exploded 73 seconds after liftoff.</td>\n",
       "      <td>Faulty O-ring seal in its right solid rocket b...</td>\n",
       "      <td>0.0</td>\n",
       "    </tr>\n",
       "    <tr>\n",
       "      <th>1</th>\n",
       "      <td>Mars Climate Orbiter</td>\n",
       "      <td>1998.0</td>\n",
       "      <td>Study the Martian climate.</td>\n",
       "      <td>Failure. Burned up in the Martian atmosphere.</td>\n",
       "      <td>A metric-imperial unit mismatch in software co...</td>\n",
       "      <td>0.0</td>\n",
       "    </tr>\n",
       "    <tr>\n",
       "      <th>2</th>\n",
       "      <td>Columbia Shuttle Disaster</td>\n",
       "      <td>2003.0</td>\n",
       "      <td>28th flight of Space Shuttle Columbia.</td>\n",
       "      <td>Failure. Disintegrated upon re-entry.</td>\n",
       "      <td>Damage to thermal protection system caused by ...</td>\n",
       "      <td>0.0</td>\n",
       "    </tr>\n",
       "    <tr>\n",
       "      <th>3</th>\n",
       "      <td>Beagle 2</td>\n",
       "      <td>2003.0</td>\n",
       "      <td>Search for life on Mars.</td>\n",
       "      <td>Failure. Lost upon landing.</td>\n",
       "      <td>One of the solar panels failed to deploy, bloc...</td>\n",
       "      <td>0.0</td>\n",
       "    </tr>\n",
       "    <tr>\n",
       "      <th>4</th>\n",
       "      <td>Orion 3</td>\n",
       "      <td>1995.0</td>\n",
       "      <td>Communication satellite launch.</td>\n",
       "      <td>Failure. Did not reach intended orbit.</td>\n",
       "      <td>The third stage of the rocket failed to ignite.</td>\n",
       "      <td>0.0</td>\n",
       "    </tr>\n",
       "  </tbody>\n",
       "</table>\n",
       "</div>"
      ],
      "text/plain": [
       "                  Mission Name    Year  \\\n",
       "0  Challenger Shuttle Disaster  1986.0   \n",
       "1         Mars Climate Orbiter  1998.0   \n",
       "2    Columbia Shuttle Disaster  2003.0   \n",
       "3                     Beagle 2  2003.0   \n",
       "4                      Orion 3  1995.0   \n",
       "\n",
       "                                  Objective  \\\n",
       "0  10th flight of Space Shuttle Challenger.   \n",
       "1                Study the Martian climate.   \n",
       "2    28th flight of Space Shuttle Columbia.   \n",
       "3                  Search for life on Mars.   \n",
       "4           Communication satellite launch.   \n",
       "\n",
       "                                         Outcome  \\\n",
       "0    Failure. Exploded 73 seconds after liftoff.   \n",
       "1  Failure. Burned up in the Martian atmosphere.   \n",
       "2          Failure. Disintegrated upon re-entry.   \n",
       "3                    Failure. Lost upon landing.   \n",
       "4         Failure. Did not reach intended orbit.   \n",
       "\n",
       "                                              Reason  Success  \n",
       "0  Faulty O-ring seal in its right solid rocket b...      0.0  \n",
       "1  A metric-imperial unit mismatch in software co...      0.0  \n",
       "2  Damage to thermal protection system caused by ...      0.0  \n",
       "3  One of the solar panels failed to deploy, bloc...      0.0  \n",
       "4    The third stage of the rocket failed to ignite.      0.0  "
      ]
     },
     "execution_count": 20,
     "metadata": {},
     "output_type": "execute_result"
    }
   ],
   "source": [
    "data = pd.read_csv('model data/model_data.csv')\n",
    "data.head()\n",
    "\n",
    "# Success column: 0 - Unsuccessful, 1 - Successful"
   ]
  },
  {
   "cell_type": "code",
   "execution_count": 21,
   "metadata": {},
   "outputs": [
    {
     "name": "stdout",
     "output_type": "stream",
     "text": [
      "52\n"
     ]
    }
   ],
   "source": [
    "# Size of dataset\n",
    "\n",
    "dataset_size1 = len(data)\n",
    "print(dataset_size1) # number of space missions"
   ]
  },
  {
   "cell_type": "markdown",
   "metadata": {},
   "source": [
    "Data Cleaning"
   ]
  },
  {
   "cell_type": "code",
   "execution_count": 22,
   "metadata": {},
   "outputs": [
    {
     "name": "stdout",
     "output_type": "stream",
     "text": [
      "Objective      0\n",
      "Outcome        0\n",
      "Reason         0\n",
      "Success        0\n",
      "Mission_Age    0\n",
      "dtype: int64\n",
      "26      Observe distant stars, galaxies, and phenomena.\n",
      "7           Demonstrate new landing technology on Mars.\n",
      "16                                         Study Venus.\n",
      "1                            Study the Martian climate.\n",
      "0              10th flight of Space Shuttle Challenger.\n",
      "28    Collect samples from the asteroid Bennu and re...\n",
      "14          Earth observation to study the environment.\n",
      "27                 Explore and study Mars' Gale Crater.\n",
      "11    Search for exoplanets using a wide-field teles...\n",
      "2                28th flight of Space Shuttle Columbia.\n",
      "24            First manned mission to land on the Moon.\n",
      "47    Map the Martian surface and search for evidenc...\n",
      "19    Earth observation for various scientific purpo...\n",
      "20    Study the atmosphere, climate, and geology of ...\n",
      "29    Demonstrate a new landing technology and explo...\n",
      "34    Search for exoplanets in orbit around the brig...\n",
      "50                      Study the universe in infrared.\n",
      "32                  Map the Moon's gravitational field.\n",
      "15               Study Mars from orbit and the surface.\n",
      "35                     Study the deep interior of Mars.\n",
      "Name: Objective, dtype: object\n",
      "[('the', 27), ('and', 27), ('Study', 19), ('of', 14), ('for', 10), ('to', 7), ('Mars.', 6), ('from', 6), ('Search', 5), ('on', 5), ('samples', 5), ('study', 5), ('outer', 5), ('Martian', 4), ('a', 4), ('its', 4), ('in', 4), ('Collect', 3), ('solar', 3), ('wind.', 3), ('moon', 3), (\"Mars'\", 3), ('atmosphere,', 3), ('Earth', 3), ('observation', 3), ('land', 3), ('asteroid', 3), ('signs', 3), ('flight', 2), ('Space', 2), ('Shuttle', 2), ('climate.', 2), ('life', 2), ('Demonstrate', 2), ('new', 2), ('landing', 2), ('technology', 2), ('Phobos.', 2), ('exoplanets', 2), ('two', 2), ('Mars', 2), ('orbit', 2), ('Observe', 2), ('phenomena.', 2), ('various', 2), ('First', 2), ('mission', 2), ('interstellar', 2), ('return', 2), ('Earth.', 2)]\n"
     ]
    }
   ],
   "source": [
    "# convert the data to DataFrame\n",
    "data = pd.DataFrame(data, columns=[\"Mission Name\", \"Year\", \"Objective\", \"Outcome\", \"Reason\", \"Success\"])\n",
    "\n",
    "# drop \"mission name\" column\n",
    "data.drop(\"Mission Name\", axis=1, inplace=True)\n",
    "\n",
    "# remove rows with missing values\n",
    "data.dropna(inplace=True)\n",
    "\n",
    "# convert \"year\" to the age of the mission relative to the current year\n",
    "data['Mission_Age'] = 2023 - data['Year']\n",
    "data.drop(['Year'], axis=1, inplace=True)\n",
    "\n",
    "# check for missing values\n",
    "print(data.isnull().sum())\n",
    "\n",
    "# fill NaN in text columns with an empty string\n",
    "data['Objective'].fillna('', inplace=True)\n",
    "data['Outcome'].fillna('', inplace=True)\n",
    "data['Reason'].fillna('', inplace=True)\n",
    "\n",
    "\n",
    "# print out unique values or a sample of the 'Objective' column to see if there's anything unusual.\n",
    "print(data['Objective'].sample(20))\n",
    "\n",
    "# explore the most common words in the 'Objective' column and see if they make sense\n",
    "from collections import Counter\n",
    "words = ' '.join(data['Objective']).split()\n",
    "most_common = Counter(words).most_common(50)\n",
    "print(most_common)\n"
   ]
  },
  {
   "cell_type": "markdown",
   "metadata": {},
   "source": [
    "Feature Engineering"
   ]
  },
  {
   "cell_type": "code",
   "execution_count": 23,
   "metadata": {},
   "outputs": [
    {
     "name": "stdout",
     "output_type": "stream",
     "text": [
      "   Success  Mission_Age     obj_0  obj_1  obj_2  obj_3  obj_4     obj_5  \\\n",
      "0      0.0         37.0  0.529461    0.0    0.0    0.0    0.0  0.000000   \n",
      "1      0.0         25.0  0.000000    0.0    0.0    0.0    0.0  0.647232   \n",
      "2      0.0         20.0  0.000000    0.0    0.0    0.0    0.0  0.000000   \n",
      "3      0.0         20.0  0.000000    0.0    0.0    0.0    0.0  0.000000   \n",
      "4      0.0         28.0  0.000000    0.0    0.0    0.0    0.0  0.000000   \n",
      "\n",
      "   obj_6  obj_7  ...  reas_90  reas_91   reas_92  reas_93   reas_94   reas_95  \\\n",
      "0    0.0    0.0  ...      0.0      0.0  0.000000      0.0  0.000000  0.000000   \n",
      "1    0.0    0.0  ...      0.0      0.0  0.000000      0.0  0.000000  0.000000   \n",
      "2    0.0    0.0  ...      0.0      0.0  0.331361      0.0  0.000000  0.445993   \n",
      "3    0.0    0.0  ...      0.0      0.0  0.000000      0.0  0.430851  0.000000   \n",
      "4    0.0    0.0  ...      0.0      0.0  0.000000      0.0  0.533129  0.000000   \n",
      "\n",
      "    reas_96  reas_97  reas_98  reas_99  \n",
      "0  0.000000      0.0      0.0      0.0  \n",
      "1  0.000000      0.0      0.0      0.0  \n",
      "2  0.344542      0.0      0.0      0.0  \n",
      "3  0.264483      0.0      0.0      0.0  \n",
      "4  0.327267      0.0      0.0      0.0  \n",
      "\n",
      "[5 rows x 252 columns]\n",
      "<class 'pandas.core.frame.DataFrame'>\n",
      "Int64Index: 52 entries, 0 to 37\n",
      "Columns: 252 entries, Success to reas_99\n",
      "dtypes: float64(252)\n",
      "memory usage: 102.8 KB\n",
      "None\n",
      "         Success  Mission_Age      obj_0      obj_1      obj_2      obj_3  \\\n",
      "count  51.000000    51.000000  51.000000  51.000000  51.000000  51.000000   \n",
      "mean    0.529412    25.509804   0.010382   0.111985   0.018656   0.035175   \n",
      "std     0.504101    14.368539   0.074139   0.129210   0.075996   0.122475   \n",
      "min     0.000000     3.000000   0.000000   0.000000   0.000000   0.000000   \n",
      "25%     0.000000    16.500000   0.000000   0.000000   0.000000   0.000000   \n",
      "50%     1.000000    24.000000   0.000000   0.000000   0.000000   0.000000   \n",
      "75%     1.000000    33.500000   0.000000   0.219821   0.000000   0.000000   \n",
      "max     1.000000    61.000000   0.529461   0.437072   0.359644   0.499716   \n",
      "\n",
      "           obj_4      obj_5      obj_6      obj_7  ...    reas_90    reas_91  \\\n",
      "count  51.000000  51.000000  51.000000  51.000000  ...  51.000000  51.000000   \n",
      "mean    0.020565   0.031807   0.027685   0.020704  ...   0.010380   0.008028   \n",
      "std     0.085381   0.129913   0.100085   0.104103  ...   0.074129   0.057330   \n",
      "min     0.000000   0.000000   0.000000   0.000000  ...   0.000000   0.000000   \n",
      "25%     0.000000   0.000000   0.000000   0.000000  ...   0.000000   0.000000   \n",
      "50%     0.000000   0.000000   0.000000   0.000000  ...   0.000000   0.000000   \n",
      "75%     0.000000   0.000000   0.000000   0.000000  ...   0.000000   0.000000   \n",
      "max     0.457045   0.647232   0.469232   0.583892  ...   0.529386   0.409421   \n",
      "\n",
      "         reas_92    reas_93    reas_94    reas_95    reas_96    reas_97  \\\n",
      "count  51.000000  51.000000  51.000000  51.000000  51.000000  51.000000   \n",
      "mean    0.063871   0.024849   0.089317   0.031081   0.053889   0.030150   \n",
      "std     0.145536   0.101496   0.158269   0.130079   0.129228   0.092623   \n",
      "min     0.000000   0.000000   0.000000   0.000000   0.000000   0.000000   \n",
      "25%     0.000000   0.000000   0.000000   0.000000   0.000000   0.000000   \n",
      "50%     0.000000   0.000000   0.000000   0.000000   0.000000   0.000000   \n",
      "75%     0.000000   0.000000   0.188221   0.000000   0.000000   0.000000   \n",
      "max     0.628295   0.508881   0.533129   0.723777   0.476546   0.329221   \n",
      "\n",
      "         reas_98    reas_99  \n",
      "count  51.000000  51.000000  \n",
      "mean    0.015077   0.039813  \n",
      "std     0.075446   0.161552  \n",
      "min     0.000000   0.000000  \n",
      "25%     0.000000   0.000000  \n",
      "50%     0.000000   0.000000  \n",
      "75%     0.000000   0.000000  \n",
      "max     0.401447   0.764565  \n",
      "\n",
      "[8 rows x 252 columns]\n",
      "(52, 252)\n"
     ]
    }
   ],
   "source": [
    "# convert features to numerical vectors using TF-IDF\n",
    "tfidf_objective = TfidfVectorizer(max_features=100)\n",
    "objective_features = tfidf_objective.fit_transform(data['Objective'])\n",
    "objective_df = pd.DataFrame(objective_features.toarray(), columns=[f'obj_{i}' for i in range(100)])\n",
    "\n",
    "\n",
    "# for Outcome:\n",
    "tfidf_outcome = TfidfVectorizer(max_features=50)\n",
    "outcome_features = tfidf_outcome.fit_transform(data['Outcome'])\n",
    "outcome_df = pd.DataFrame(outcome_features.toarray(), columns=[f'out_{i}' for i in range(50)])\n",
    "\n",
    "# for Reason:\n",
    "tfidf_reason = TfidfVectorizer(max_features=100)\n",
    "reason_features = tfidf_reason.fit_transform(data['Reason'])\n",
    "reason_df = pd.DataFrame(reason_features.toarray(), columns=[f'reas_{i}' for i in range(100)])\n",
    "\n",
    "# concatenate the TF-IDF features to the main dataframe and drop original text columns\n",
    "data = pd.concat([data, objective_df, outcome_df, reason_df], axis=1)\n",
    "data.drop(['Objective', 'Outcome', 'Reason'], axis=1, inplace=True)\n",
    "\n",
    "print(data.head())\n",
    "print(data.info())\n",
    "print(data.describe())\n",
    "print(data.shape)\n"
   ]
  },
  {
   "cell_type": "markdown",
   "metadata": {},
   "source": [
    "Data Splitting"
   ]
  },
  {
   "cell_type": "code",
   "execution_count": 24,
   "metadata": {},
   "outputs": [
    {
     "name": "stdout",
     "output_type": "stream",
     "text": [
      "Mission_Age    0\n",
      "reas_21        0\n",
      "reas_8         0\n",
      "reas_9         0\n",
      "reas_10        0\n",
      "              ..\n",
      "obj_87         0\n",
      "obj_88         0\n",
      "obj_89         0\n",
      "obj_90         0\n",
      "reas_99        0\n",
      "Length: 251, dtype: int64\n",
      "Mission_Age    0\n",
      "reas_21        0\n",
      "reas_8         0\n",
      "reas_9         0\n",
      "reas_10        0\n",
      "              ..\n",
      "obj_87         0\n",
      "obj_88         0\n",
      "obj_89         0\n",
      "obj_90         0\n",
      "reas_99        0\n",
      "Length: 251, dtype: int64\n",
      "0\n"
     ]
    }
   ],
   "source": [
    "X = data.drop('Success', axis=1)  # features\n",
    "y = data['Success']  # target variable\n",
    "\n",
    "# 70% - training set, 30% - test set\n",
    "X_train, X_test, y_train, y_test = train_test_split(X, y, test_size=0.3, random_state=42)\n",
    "\n",
    "\n",
    "# check and remove missing values\n",
    "index_with_nan = y_train.index[y_train.isnull()]\n",
    "X_train = X_train.drop(index_with_nan)\n",
    "y_train = y_train.drop(index_with_nan)\n",
    "\n",
    "for column in X_train.columns:\n",
    "    mean_val = X_train[column].mean()\n",
    "    X_train[column] = X_train[column].fillna(mean_val)\n",
    "    X_test[column] = X_test[column].fillna(mean_val)\n",
    "\n",
    "print(X_train.isnull().sum().sort_values(ascending=False))\n",
    "print(X_test.isnull().sum().sort_values(ascending=False))\n",
    "print(y_train.isnull().sum())\n"
   ]
  },
  {
   "cell_type": "markdown",
   "metadata": {},
   "source": [
    "Baseline Model - Logistic Regression"
   ]
  },
  {
   "cell_type": "code",
   "execution_count": 25,
   "metadata": {},
   "outputs": [
    {
     "name": "stdout",
     "output_type": "stream",
     "text": [
      "              precision    recall  f1-score   support\n",
      "\n",
      "         0.0       1.00      0.89      0.94         9\n",
      "         1.0       0.88      1.00      0.93         7\n",
      "\n",
      "    accuracy                           0.94        16\n",
      "   macro avg       0.94      0.94      0.94        16\n",
      "weighted avg       0.95      0.94      0.94        16\n",
      "\n"
     ]
    }
   ],
   "source": [
    "model = LogisticRegression(max_iter=1000)  # increased max_iter for convergence\n",
    "model.fit(X_train, y_train)\n",
    "y_pred = model.predict(X_test)\n",
    "\n",
    "\n",
    "# evaluate model\n",
    "from sklearn.metrics import classification_report\n",
    "\n",
    "print(classification_report(y_test, y_pred))"
   ]
  },
  {
   "cell_type": "markdown",
   "metadata": {},
   "source": [
    "Learning Curve and Cross-Validation"
   ]
  },
  {
   "cell_type": "code",
   "execution_count": 26,
   "metadata": {},
   "outputs": [
    {
     "name": "stdout",
     "output_type": "stream",
     "text": [
      "Accuracy: 0.97\n"
     ]
    },
    {
     "data": {
      "image/png": "[encoded data removed]",
      "text/plain": [
       "<Figure size 1000x600 with 1 Axes>"
      ]
     },
     "metadata": {},
     "output_type": "display_data"
    }
   ],
   "source": [
    "# compute the scores from cross-validation\n",
    "scores = cross_val_score(LogisticRegression(max_iter=1000), X_train, y_train, cv=10, scoring='accuracy')\n",
    "\n",
    "# print the mean and standard deviation of the scores\n",
    "print(\"Accuracy: %0.2f\" % scores.mean())\n",
    "\n",
    "\n",
    "\n",
    "# determine the training sizes and the respective training and validation scores\n",
    "train_sizes, train_scores, test_scores = learning_curve(\n",
    "    LogisticRegression(max_iter=1000),\n",
    "    X_train,\n",
    "    y_train,\n",
    "    cv=10,\n",
    "    scoring='accuracy',\n",
    "    n_jobs=-1, # use all processors\n",
    "    train_sizes=np.linspace(0.1, 1.0, 10)\n",
    ")\n",
    "\n",
    "# compute mean and standard deviation for training set scores\n",
    "train_mean = np.mean(train_scores, axis=1)\n",
    "train_std = np.std(train_scores, axis=1)\n",
    "\n",
    "# compute mean and standard deviation for validation set scores\n",
    "test_mean = np.mean(test_scores, axis=1)\n",
    "test_std = np.std(test_scores, axis=1)\n",
    "\n",
    "# plot the learning curves\n",
    "plt.figure(figsize=(10,6))\n",
    "plt.plot(train_sizes, train_mean, 'o-', color=\"r\", label=\"Training score\")\n",
    "plt.plot(train_sizes, test_mean, 'o-', color=\"g\", label=\"Cross-validation score\")\n",
    "plt.fill_between(train_sizes, train_mean - train_std, train_mean + train_std, alpha=0.1, color=\"r\")\n",
    "plt.fill_between(train_sizes, test_mean - test_std, test_mean + test_std, alpha=0.1, color=\"g\")\n",
    "\n",
    "plt.title(\"Learning Curves\")\n",
    "plt.xlabel(\"Training examples\")\n",
    "plt.ylabel(\"Score\")\n",
    "plt.legend(loc=\"best\")\n",
    "plt.grid()\n",
    "plt.show()\n"
   ]
  },
  {
   "cell_type": "markdown",
   "metadata": {},
   "source": [
    "Generate Data for LLM - Creates and designs novel space mission guidelines"
   ]
  },
  {
   "cell_type": "code",
   "execution_count": 27,
   "metadata": {},
   "outputs": [
    {
     "name": "stdout",
     "output_type": "stream",
     "text": [
      "Generated data for the language learning data has been saved to ../data/mission_design_guidelines.txt\n"
     ]
    }
   ],
   "source": [
    "# read CSV data from a file and store it as a string variable\n",
    "csv_file_path = 'model data/model_data.csv'\n",
    "with open(csv_file_path, 'r') as file:\n",
    "    data = file.read()\n",
    "\n",
    "\n",
    "# split the data into lines\n",
    "lines = data.strip().split(\"\\n\")\n",
    "\n",
    "# extract headers and rows\n",
    "headers = [header.replace('\"', '') for header in lines[0].split(\",\")]\n",
    "rows = [line.split(\",\") for line in lines[1:]]\n",
    "\n",
    "# separate data based on success and failure\n",
    "success_data = [row for row in rows if row[-1] == \"1\"]\n",
    "failure_data = [row for row in rows if row[-1] == \"0\"]\n",
    "\n",
    "def extract_info(data, col_name):\n",
    "    \"\"\"Extract unique data from a given column.\"\"\"\n",
    "    idx = headers.index(col_name)\n",
    "    return list(set(row[idx].replace('\"', '') for row in data))\n",
    "\n",
    "# things to focus on for success\n",
    "successful_objectives = extract_info(success_data, \"Objective\")\n",
    "successful_reasons = extract_info(success_data, \"Reason\")\n",
    "\n",
    "# things to avoid or handle with care for failures\n",
    "failed_objectives = extract_info(failure_data, \"Objective\")\n",
    "failed_reasons = extract_info(failure_data, \"Reason\")\n",
    "\n",
    "with open(\"../data/mission_design_guidelines.txt\", \"w\") as file:\n",
    "    file.write(\"Common mission objectives (based on past space missions):\\n\")\n",
    "    for obj in successful_objectives:\n",
    "        file.write(f\"- {obj}\\n\")\n",
    "    for reason in successful_reasons:\n",
    "        file.write(f\"- {reason}\\n\")\n",
    "\n",
    "    file.write(\"\\nThings to Avoid or Handle with Care (based on unsuccessful missions):\\n\")\n",
    "    for obj in failed_objectives:\n",
    "        file.write(f\"- {obj}\\n\")\n",
    "    for reason in failed_reasons:\n",
    "        file.write(f\"- {reason}\\n\")\n",
    "\n",
    "print(\"Generated data for the language learning data has been saved to ../data/mission_design_guidelines.txt\")\n"
   ]
  },
  {
   "cell_type": "markdown",
   "metadata": {},
   "source": [
    "Save Model"
   ]
  },
  {
   "cell_type": "code",
   "execution_count": 28,
   "metadata": {},
   "outputs": [
    {
     "data": {
      "text/plain": [
       "['model.pkl']"
      ]
     },
     "execution_count": 28,
     "metadata": {},
     "output_type": "execute_result"
    }
   ],
   "source": [
    "# save the trained model to a file\n",
    "model_filename = 'model.pkl'\n",
    "joblib.dump(model, model_filename)"
   ]
  }
 ],
 "metadata": {
  "kernelspec": {
   "display_name": "Python 3",
   "language": "python",
   "name": "python3"
  },
  "language_info": {
   "codemirror_mode": {
    "name": "ipython",
    "version": 3
   },
   "file_extension": ".py",
   "mimetype": "text/x-python",
   "name": "python",
   "nbconvert_exporter": "python",
   "pygments_lexer": "ipython3",
   "version": "3.9.13"
  },
  "orig_nbformat": 4
 },
 "nbformat": 4,
 "nbformat_minor": 2
}
